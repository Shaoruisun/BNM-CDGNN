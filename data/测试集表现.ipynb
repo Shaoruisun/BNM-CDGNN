{
 "cells": [
  {
   "cell_type": "code",
   "execution_count": 1,
   "metadata": {
    "ExecuteTime": {
     "end_time": "2023-08-21T01:18:04.562997Z",
     "start_time": "2023-08-21T01:18:04.239932Z"
    }
   },
   "outputs": [],
   "source": [
    "import pandas as pd\n",
    "from sklearn.metrics import mean_absolute_error,mean_squared_error"
   ]
  },
  {
   "cell_type": "code",
   "execution_count": 2,
   "metadata": {
    "ExecuteTime": {
     "end_time": "2023-08-21T01:18:04.593147Z",
     "start_time": "2023-08-21T01:18:04.564794Z"
    }
   },
   "outputs": [
    {
     "data": {
      "text/html": [
       "<div>\n",
       "<style scoped>\n",
       "    .dataframe tbody tr th:only-of-type {\n",
       "        vertical-align: middle;\n",
       "    }\n",
       "\n",
       "    .dataframe tbody tr th {\n",
       "        vertical-align: top;\n",
       "    }\n",
       "\n",
       "    .dataframe thead th {\n",
       "        text-align: right;\n",
       "    }\n",
       "</style>\n",
       "<table border=\"1\" class=\"dataframe\">\n",
       "  <thead>\n",
       "    <tr style=\"text-align: right;\">\n",
       "      <th></th>\n",
       "      <th>name</th>\n",
       "      <th>prediction</th>\n",
       "      <th>target</th>\n",
       "    </tr>\n",
       "  </thead>\n",
       "  <tbody>\n",
       "    <tr>\n",
       "      <th>0</th>\n",
       "      <td>mp-13752</td>\n",
       "      <td>-2.305948</td>\n",
       "      <td>-2.288289</td>\n",
       "    </tr>\n",
       "    <tr>\n",
       "      <th>1</th>\n",
       "      <td>mp-1934</td>\n",
       "      <td>-0.525198</td>\n",
       "      <td>-0.530455</td>\n",
       "    </tr>\n",
       "    <tr>\n",
       "      <th>2</th>\n",
       "      <td>mp-34434</td>\n",
       "      <td>-1.315401</td>\n",
       "      <td>-1.371873</td>\n",
       "    </tr>\n",
       "    <tr>\n",
       "      <th>3</th>\n",
       "      <td>mp-2695</td>\n",
       "      <td>-0.306988</td>\n",
       "      <td>-0.297898</td>\n",
       "    </tr>\n",
       "    <tr>\n",
       "      <th>4</th>\n",
       "      <td>mp-20446</td>\n",
       "      <td>-0.576592</td>\n",
       "      <td>-0.563683</td>\n",
       "    </tr>\n",
       "    <tr>\n",
       "      <th>...</th>\n",
       "      <td>...</td>\n",
       "      <td>...</td>\n",
       "      <td>...</td>\n",
       "    </tr>\n",
       "    <tr>\n",
       "      <th>5520</th>\n",
       "      <td>mp-12691</td>\n",
       "      <td>-0.140053</td>\n",
       "      <td>-0.073687</td>\n",
       "    </tr>\n",
       "    <tr>\n",
       "      <th>5521</th>\n",
       "      <td>mp-24144</td>\n",
       "      <td>-0.378501</td>\n",
       "      <td>-0.364857</td>\n",
       "    </tr>\n",
       "    <tr>\n",
       "      <th>5522</th>\n",
       "      <td>mp-19571</td>\n",
       "      <td>-0.194820</td>\n",
       "      <td>-0.209103</td>\n",
       "    </tr>\n",
       "    <tr>\n",
       "      <th>5523</th>\n",
       "      <td>mp-666</td>\n",
       "      <td>0.101759</td>\n",
       "      <td>0.121647</td>\n",
       "    </tr>\n",
       "    <tr>\n",
       "      <th>5524</th>\n",
       "      <td>mp-27303</td>\n",
       "      <td>-2.051137</td>\n",
       "      <td>-2.102476</td>\n",
       "    </tr>\n",
       "  </tbody>\n",
       "</table>\n",
       "<p>5525 rows × 3 columns</p>\n",
       "</div>"
      ],
      "text/plain": [
       "          name  prediction    target\n",
       "0     mp-13752   -2.305948 -2.288289\n",
       "1      mp-1934   -0.525198 -0.530455\n",
       "2     mp-34434   -1.315401 -1.371873\n",
       "3      mp-2695   -0.306988 -0.297898\n",
       "4     mp-20446   -0.576592 -0.563683\n",
       "...        ...         ...       ...\n",
       "5520  mp-12691   -0.140053 -0.073687\n",
       "5521  mp-24144   -0.378501 -0.364857\n",
       "5522  mp-19571   -0.194820 -0.209103\n",
       "5523    mp-666    0.101759  0.121647\n",
       "5524  mp-27303   -2.051137 -2.102476\n",
       "\n",
       "[5525 rows x 3 columns]"
      ]
     },
     "execution_count": 2,
     "metadata": {},
     "output_type": "execute_result"
    }
   ],
   "source": [
    "data = pd.read_csv(\"test_predictions_5_8_12.csv\")\n",
    "data"
   ]
  },
  {
   "cell_type": "code",
   "execution_count": 3,
   "metadata": {
    "ExecuteTime": {
     "end_time": "2023-08-21T01:18:04.703210Z",
     "start_time": "2023-08-21T01:18:04.594044Z"
    }
   },
   "outputs": [
    {
     "data": {
      "text/plain": [
       "0.03819260153571222"
      ]
     },
     "execution_count": 3,
     "metadata": {},
     "output_type": "execute_result"
    }
   ],
   "source": [
    "mae  = mean_absolute_error(data['prediction'],data['target'])\n",
    "mae"
   ]
  },
  {
   "cell_type": "code",
   "execution_count": 4,
   "metadata": {
    "ExecuteTime": {
     "end_time": "2023-08-21T01:18:04.794635Z",
     "start_time": "2023-08-21T01:18:04.704322Z"
    }
   },
   "outputs": [
    {
     "data": {
      "text/plain": [
       "0.008417905765861782"
      ]
     },
     "execution_count": 4,
     "metadata": {},
     "output_type": "execute_result"
    }
   ],
   "source": [
    "MSE = mean_squared_error(data['prediction'],data['target'])\n",
    "MSE"
   ]
  },
  {
   "cell_type": "code",
   "execution_count": 5,
   "metadata": {
    "ExecuteTime": {
     "end_time": "2023-08-21T01:18:04.922762Z",
     "start_time": "2023-08-21T01:18:04.795583Z"
    }
   },
   "outputs": [
    {
     "name": "stdout",
     "output_type": "stream",
     "text": [
      "training RMSE = 0.0917 ev/Atom\n"
     ]
    }
   ],
   "source": [
    "import numpy as np\n",
    "print('training RMSE = {:.4f} ev/Atom'.format(np.sqrt(MSE)))"
   ]
  },
  {
   "cell_type": "code",
   "execution_count": null,
   "metadata": {},
   "outputs": [],
   "source": []
  }
 ],
 "metadata": {
  "kernelspec": {
   "display_name": "Python 3",
   "language": "python",
   "name": "python3"
  },
  "language_info": {
   "codemirror_mode": {
    "name": "ipython",
    "version": 3
   },
   "file_extension": ".py",
   "mimetype": "text/x-python",
   "name": "python",
   "nbconvert_exporter": "python",
   "pygments_lexer": "ipython3",
   "version": "3.7.3"
  },
  "latex_envs": {
   "LaTeX_envs_menu_present": true,
   "autoclose": false,
   "autocomplete": true,
   "bibliofile": "biblio.bib",
   "cite_by": "apalike",
   "current_citInitial": 1,
   "eqLabelWithNumbers": true,
   "eqNumInitial": 1,
   "hotkeys": {
    "equation": "Ctrl-E",
    "itemize": "Ctrl-I"
   },
   "labels_anchors": false,
   "latex_user_defs": false,
   "report_style_numbering": false,
   "user_envs_cfg": false
  },
  "toc": {
   "base_numbering": 1,
   "nav_menu": {},
   "number_sections": true,
   "sideBar": true,
   "skip_h1_title": false,
   "title_cell": "Table of Contents",
   "title_sidebar": "Contents",
   "toc_cell": false,
   "toc_position": {},
   "toc_section_display": true,
   "toc_window_display": false
  },
  "varInspector": {
   "cols": {
    "lenName": 16,
    "lenType": 16,
    "lenVar": 40
   },
   "kernels_config": {
    "python": {
     "delete_cmd_postfix": "",
     "delete_cmd_prefix": "del ",
     "library": "var_list.py",
     "varRefreshCmd": "print(var_dic_list())"
    },
    "r": {
     "delete_cmd_postfix": ") ",
     "delete_cmd_prefix": "rm(",
     "library": "var_list.r",
     "varRefreshCmd": "cat(var_dic_list()) "
    }
   },
   "types_to_exclude": [
    "module",
    "function",
    "builtin_function_or_method",
    "instance",
    "_Feature"
   ],
   "window_display": false
  }
 },
 "nbformat": 4,
 "nbformat_minor": 2
}
